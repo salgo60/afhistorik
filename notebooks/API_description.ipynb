{
 "cells": [
  {
   "cell_type": "markdown",
   "metadata": {
    "nbpresent": {
     "id": "72d6e5be-8406-4dea-87e1-51b72198fb02"
    }
   },
   "source": [
    "This is a Jupyter Notebook: To edit and run any of the code, either:  \n",
    "1) Run it remotely from any Jupyter server.  \n",
    "2) Clone or download it and open it up locally. You will need to install Anaconda 3.x to get Jupyter and all packages that are used in the notebook."
   ]
  },
  {
   "cell_type": "markdown",
   "metadata": {
    "nbpresent": {
     "id": "dfa92780-9a05-4bf9-84a8-b599bd87270c"
    }
   },
   "source": [
    "# Microservice: Statistics for Historical Job Postings in Platsbanken"
   ]
  },
  {
   "cell_type": "markdown",
   "metadata": {},
   "source": [
    "Version: 0.1  \n",
    "Date: 2017-04-24  \n",
    "Author(s): Simon Benjaminsson\n",
    "  \n",
    "<a href='#section1'>Description</a>  \n",
    "<a href='#section2'>API calls</a>  \n",
    "<a href='#section3'>Syntax</a>  \n",
    "<a href='#section4'>Example 1 - Specific job types</a>  \n",
    "<a href='#section5'>Example 2 - Employers</a>  \n",
    "<a href='#section6'>Example 3 (advanced) - Effect of the privatization of pharmacies</a>"
   ]
  },
  {
   "cell_type": "markdown",
   "metadata": {},
   "source": [
    "## Description <a id='section1'></a>"
   ]
  },
  {
   "cell_type": "markdown",
   "metadata": {
    "nbpresent": {
     "id": "f7a0bc1f-8460-4cdd-bfbf-64b60cce597a"
    }
   },
   "source": [
    "The Statistics for Historical Job Postings API is a microservice providing aggregated results of basic types of queries over <a href=\"http://jobtechdev.se/products/historical-job-postings\">the historical dataset of Platsbanken</a>. The intention is to:  \n",
    "- Get fast access to basic calculations on the full dataset without crunching any data.  \n",
    "- Easily be able to use the statistics in applications.  \n",
    "  \n",
    "A full example (javascript + d3) using this API can be found <a href=\"http://historik.azurewebsites.net\">here</a>.  \n",
    "  \n",
    "This API is not intended for production use. If that is needed, clone the <a href=\"http://github.com/simonbe/afhistorik\">source</a> and setup a separate instance.\n"
   ]
  },
  {
   "cell_type": "markdown",
   "metadata": {},
   "source": [
    "## API calls <a id='section2'></a>"
   ]
  },
  {
   "cell_type": "markdown",
   "metadata": {
    "nbpresent": {
     "id": "82321277-8119-4b77-8207-30c7cd3270d5"
    }
   },
   "source": [
    "The microservice is a REST API endpoint currently located at:  \n",
    "<a href=\"x\">http://13.74.12.222:8080/realtime1/</a>  \n"
   ]
  },
  {
   "cell_type": "markdown",
   "metadata": {
    "nbpresent": {
     "id": "623eca8d-93db-4eb4-bb2b-8064af54065f"
    }
   },
   "source": [
    "To access it, use it together with an arbitrary query.  \n",
    "  \n",
    "In the browser: http://13.74.12.222:8080/realtime1/javascript  \n",
    "\n",
    "In javascript (jQuery):  \n",
    "$.getJSON(\"http://13.74.12.222:8080/realtime1/javascript\",function(data) { })\n",
    "\n",
    "In Python:"
   ]
  },
  {
   "cell_type": "code",
   "execution_count": 22,
   "metadata": {
    "collapsed": true,
    "nbpresent": {
     "id": "c060dce0-2fa8-4763-bec7-71c50652ed9c"
    }
   },
   "outputs": [],
   "source": [
    "import requests\n",
    "import json\n",
    "\n",
    "url = 'http://13.74.12.222:8080/realtime1/'\n",
    "query = 'javascript'\n",
    "response = requests.get(url + query)\n",
    "result = json.loads(response.content)"
   ]
  },
  {
   "cell_type": "markdown",
   "metadata": {},
   "source": [
    "The API returns the following:"
   ]
  },
  {
   "cell_type": "code",
   "execution_count": 23,
   "metadata": {
    "collapsed": false
   },
   "outputs": [
    {
     "data": {
      "text/plain": [
       "[u'kommunkoder',\n",
       " u'occupations',\n",
       " u'months',\n",
       " u'kommunkoder_percapita',\n",
       " u'kommunkoder_total',\n",
       " u'employers',\n",
       " u'years']"
      ]
     },
     "execution_count": 23,
     "metadata": {},
     "output_type": "execute_result"
    }
   ],
   "source": [
    "result[query].keys()"
   ]
  },
  {
   "cell_type": "markdown",
   "metadata": {},
   "source": [
    "And a retrieval time in seconds:"
   ]
  },
  {
   "cell_type": "code",
   "execution_count": 24,
   "metadata": {
    "collapsed": false
   },
   "outputs": [
    {
     "data": {
      "text/plain": [
       "0.162885"
      ]
     },
     "execution_count": 24,
     "metadata": {},
     "output_type": "execute_result"
    }
   ],
   "source": [
    "result['retrieval_time']"
   ]
  },
  {
   "cell_type": "markdown",
   "metadata": {},
   "source": [
    "Each object contains a dictionary with labels in one list and corresponding values in the other."
   ]
  },
  {
   "cell_type": "code",
   "execution_count": 25,
   "metadata": {
    "collapsed": false
   },
   "outputs": [
    {
     "data": {
      "text/plain": [
       "[u'Counts', u'Month']"
      ]
     },
     "execution_count": 25,
     "metadata": {},
     "output_type": "execute_result"
    }
   ],
   "source": [
    "data = result[query]['months']\n",
    "data.keys()"
   ]
  },
  {
   "cell_type": "markdown",
   "metadata": {},
   "source": [
    "These contains labels ('Month') and corresponding values ('Counts'):"
   ]
  },
  {
   "cell_type": "code",
   "execution_count": 26,
   "metadata": {
    "collapsed": false
   },
   "outputs": [
    {
     "data": {
      "image/png": "[encoded data removed]",
      "text/plain": [
       "<matplotlib.figure.Figure at 0xd38d198>"
      ]
     },
     "metadata": {},
     "output_type": "display_data"
    }
   ],
   "source": [
    "%matplotlib inline\n",
    "import matplotlib\n",
    "import numpy as np\n",
    "import matplotlib.pyplot as plt\n",
    "\n",
    "def plotData(data,title):\n",
    "    x = range(0,len(data['Counts']))\n",
    "    y = data['Counts']\n",
    "    xTicks = data['Month']\n",
    "    \n",
    "    x1=[i for i in range(0,len(xTicks),12)]\n",
    "    x2=[xTicks[i] for i in range(0,len(xTicks),12)]\n",
    "    \n",
    "    plt.plot(x, y, 'r')\n",
    "    plt.xticks(x1, x2, rotation=45)\n",
    "    plt.ylabel('Nr job ads')\n",
    "    plt.xlabel('Month')\n",
    "    plt.title(title)\n",
    "    plt.show()\n",
    "    \n",
    "plotData(data,\"Nr ads in Platsbanken mentioning 'javascript'\")"
   ]
  },
  {
   "cell_type": "markdown",
   "metadata": {},
   "source": [
    "As seen from the plot or calculated straight from the retrieved data, the number of ads mentioning 'javascript' was increased between december 2006 and december 2016 by"
   ]
  },
  {
   "cell_type": "code",
   "execution_count": 6,
   "metadata": {
    "collapsed": false
   },
   "outputs": [
    {
     "name": "stdout",
     "output_type": "stream",
     "text": [
      "1278%\n"
     ]
    }
   ],
   "source": [
    "c=data['Counts'][data['Month'].index('2016-12')] / data['Counts'][data['Month'].index('2006-12')]\n",
    "print(str(int(round(c*100)))+'%')"
   ]
  },
  {
   "cell_type": "markdown",
   "metadata": {},
   "source": [
    "To get several results at once separate each query by a decimal:"
   ]
  },
  {
   "cell_type": "code",
   "execution_count": 7,
   "metadata": {
    "collapsed": false
   },
   "outputs": [
    {
     "data": {
      "text/plain": [
       "[u'python', u'_total', u'assembler', u'retrieval_time', u'c++']"
      ]
     },
     "execution_count": 7,
     "metadata": {},
     "output_type": "execute_result"
    }
   ],
   "source": [
    "queries = 'python,c++,assembler,_total'\n",
    "\n",
    "response = requests.get(url + queries)\n",
    "result = json.loads(response.content)\n",
    "result.keys()"
   ]
  },
  {
   "cell_type": "markdown",
   "metadata": {
    "collapsed": true
   },
   "source": [
    "where <b>'_total'</b> is a special keyword giving statistics for the full dataset:"
   ]
  },
  {
   "cell_type": "code",
   "execution_count": 11,
   "metadata": {
    "collapsed": false
   },
   "outputs": [
    {
     "ename": "KeyError",
     "evalue": "'years'",
     "output_type": "error",
     "traceback": [
      "\u001b[1;31m---------------------------------------------------------------------------\u001b[0m",
      "\u001b[1;31mKeyError\u001b[0m                                  Traceback (most recent call last)",
      "\u001b[1;32m<ipython-input-11-419ac4305512>\u001b[0m in \u001b[0;36m<module>\u001b[1;34m()\u001b[0m\n\u001b[1;32m----> 1\u001b[1;33m \u001b[0msum\u001b[0m\u001b[1;33m(\u001b[0m\u001b[0mresult\u001b[0m\u001b[1;33m[\u001b[0m\u001b[1;34m'_total'\u001b[0m\u001b[1;33m]\u001b[0m\u001b[1;33m[\u001b[0m\u001b[1;34m'years'\u001b[0m\u001b[1;33m]\u001b[0m\u001b[1;33m[\u001b[0m\u001b[1;34m'Counts'\u001b[0m\u001b[1;33m]\u001b[0m\u001b[1;33m)\u001b[0m\u001b[1;33m\u001b[0m\u001b[0m\n\u001b[0m",
      "\u001b[1;31mKeyError\u001b[0m: 'years'"
     ]
    }
   ],
   "source": [
    "sum(result['_total']['years']['Counts'])"
   ]
  },
  {
   "cell_type": "markdown",
   "metadata": {},
   "source": [
    "### Syntax<a id='section3'></a>"
   ]
  },
  {
   "cell_type": "markdown",
   "metadata": {},
   "source": [
    "A query to the API has a syntax for AND, OR and NOT combinations:  \n",
    "1. <b>'javascript angular'</b> gives result for only those ads mentioning javascript <b>AND</b> angular.\n",
    "2. <b>'(javascript java) angular'</b> gives result for those ads mentioning (javascript <b>OR</b> java) <b>AND</b> angular.\n",
    "3. <b>'javascript !angular'</b> gives result for those ads mentioning javascript but <b>NOT</b> angular.  \n",
    "  \n",
    "  \n",
    "Combining these operations one can formulate complex queries:\n",
    "\n",
    "<b>'Give me statistics on all ads mentioning javascript in 2011, 2012 and 2013 in the Stockholm municipality but not mentioning html'</b>  \n",
    "would be  \n",
    "<b>'javascript !html (2011 2012 2013) Stockholm'</b>"
   ]
  },
  {
   "cell_type": "markdown",
   "metadata": {},
   "source": [
    "Meta data information has been indexed separately and a specific job type or a specific employer can be called by \"job type name\" (case sensitive).  \n",
    "  \n",
    "  \n",
    "Specific employer a specific year: <b>2012 \"Arbetsförmedlingen\"</b>  \n",
    "  \n",
    "Specific job type in a municipality: <b>\"Lärare gymnasiet\" Malmö</b>"
   ]
  },
  {
   "cell_type": "markdown",
   "metadata": {
    "nbpresent": {
     "id": "c89a19f6-9e68-43f4-9207-ad08de3eaa0f"
    }
   },
   "source": [
    "### Example 1 - Specific job types<a id='section4'></a>"
   ]
  },
  {
   "cell_type": "markdown",
   "metadata": {},
   "source": [
    "Get statistics on all ads which has had the metadata 'Lärare gymnasiet'"
   ]
  },
  {
   "cell_type": "code",
   "execution_count": 27,
   "metadata": {
    "collapsed": false,
    "nbpresent": {
     "id": "1e89dac9-ad72-4989-a103-2fc78f6c3c8a"
    }
   },
   "outputs": [
    {
     "data": {
      "image/png": "[encoded data removed]",
      "text/plain": [
       "<matplotlib.figure.Figure at 0xd54f2b0>"
      ]
     },
     "metadata": {},
     "output_type": "display_data"
    }
   ],
   "source": [
    "query = u'lärare' # case-sensitive\n",
    "response = requests.get(url + query)\n",
    "result = json.loads(response.content)\n",
    "data = result[query]['months']\n",
    "plotData(data,u\"Nr ads in Platsbanken mentioning 'lärare'\")"
   ]
  },
  {
   "cell_type": "markdown",
   "metadata": {},
   "source": [
    "See the distribution across the municipalities of Sweden:"
   ]
  },
  {
   "cell_type": "markdown",
   "metadata": {},
   "source": [
    "Let's do a simple estimation by a regression on how it will look in the future:"
   ]
  },
  {
   "cell_type": "markdown",
   "metadata": {
    "nbpresent": {
     "id": "daac11c9-886f-4eaa-834e-e5e1eaab2e89"
    }
   },
   "source": [
    "### Example 2 - Employers<a id='section5'></a>"
   ]
  },
  {
   "cell_type": "markdown",
   "metadata": {
    "collapsed": true
   },
   "source": [
    "Note: Employers post under a name they chose themselves and may change their name.  \n",
    "  \n",
    "Get statistics on all ads from Arbetsförmedlingen:"
   ]
  },
  {
   "cell_type": "code",
   "execution_count": 1,
   "metadata": {
    "collapsed": false,
    "nbpresent": {
     "id": "f8e24218-d5ac-48fd-8795-fbc55d1deda0"
    }
   },
   "outputs": [
    {
     "ename": "NameError",
     "evalue": "name 'json' is not defined",
     "output_type": "error",
     "traceback": [
      "\u001b[1;31m---------------------------------------------------------------------------\u001b[0m",
      "\u001b[1;31mNameError\u001b[0m                                 Traceback (most recent call last)",
      "\u001b[1;32m<ipython-input-1-efc72b021bd6>\u001b[0m in \u001b[0;36m<module>\u001b[1;34m()\u001b[0m\n\u001b[0;32m      1\u001b[0m \u001b[0mquery\u001b[0m \u001b[1;33m=\u001b[0m \u001b[1;34m'\"Arbetsförmedlingen\"'\u001b[0m\u001b[1;33m\u001b[0m\u001b[0m\n\u001b[1;32m----> 2\u001b[1;33m \u001b[0mresult\u001b[0m \u001b[1;33m=\u001b[0m \u001b[0mjson\u001b[0m\u001b[1;33m.\u001b[0m\u001b[0mloads\u001b[0m\u001b[1;33m(\u001b[0m\u001b[1;33m)\u001b[0m\u001b[1;33m\u001b[0m\u001b[0m\n\u001b[0m",
      "\u001b[1;31mNameError\u001b[0m: name 'json' is not defined"
     ]
    }
   ],
   "source": [
    "query = '\"Arbetsförmedlingen\"'\n",
    "result = json.loads()"
   ]
  },
  {
   "cell_type": "markdown",
   "metadata": {},
   "source": [
    "Let's estimate how we think Arbetsförmedlingen will recruit in 2017:  \n",
    "  \n",
    "Do a regression on the data supplied from the API, one for each occupation:"
   ]
  },
  {
   "cell_type": "markdown",
   "metadata": {},
   "source": [
    "Split it up into the different occupations."
   ]
  },
  {
   "cell_type": "markdown",
   "metadata": {
    "nbpresent": {
     "id": "aba94114-ac4c-4500-9089-c3e8ed76b13b"
    }
   },
   "source": [
    "### Example 3 (Advanced) - Effect of the privatization of pharmacies<a id='section6'></a>"
   ]
  },
  {
   "cell_type": "markdown",
   "metadata": {
    "nbpresent": {
     "id": "2160f9a2-2b4a-4dc4-bb69-a1b5fcf68b60"
    }
   },
   "source": [
    "Under construction."
   ]
  },
  {
   "cell_type": "code",
   "execution_count": null,
   "metadata": {
    "collapsed": true
   },
   "outputs": [],
   "source": []
  }
 ],
 "metadata": {
  "anaconda-cloud": {},
  "kernelspec": {
   "display_name": "Python 2",
   "language": "python",
   "name": "python2"
  },
  "language_info": {
   "codemirror_mode": {
    "name": "ipython",
    "version": 2
   },
   "file_extension": ".py",
   "mimetype": "text/x-python",
   "name": "python",
   "nbconvert_exporter": "python",
   "pygments_lexer": "ipython2",
   "version": "2.7.10"
  }
 },
 "nbformat": 4,
 "nbformat_minor": 1
}
